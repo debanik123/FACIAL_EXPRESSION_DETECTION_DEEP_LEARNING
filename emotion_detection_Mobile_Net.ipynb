{
 "cells": [
  {
   "cell_type": "code",
   "execution_count": 3,
   "metadata": {},
   "outputs": [],
   "source": [
    "from keras.models import Sequential, Model\n",
    "from keras.applications import MobileNet\n",
    "from keras.preprocessing.image import ImageDataGenerator \n",
    "from keras.preprocessing import image \n",
    "from keras.utils import to_categorical\n",
    "#from keras.applications.vgg19 import VGG19\n",
    "from keras.layers import Dense, MaxPooling2D, Flatten, Activation, Dropout,GlobalAveragePooling2D\n",
    "#from keras.applications.vgg16 import VGG16, preprocess_input, decode_predictions\n",
    "from sklearn.model_selection import train_test_split\n",
    "from sklearn.metrics import classification_report,confusion_matrix\n",
    "import os\n",
    "from os import listdir\n",
    "from os.path import isfile, join\n",
    "import numpy as np\n",
    "import cv2\n",
    "import keras\n",
    "import matplotlib.pyplot as plt \n",
    "from keras.callbacks import ModelCheckpoint, EarlyStopping, ReduceLROnPlateau"
   ]
  },
  {
   "cell_type": "code",
   "execution_count": 4,
   "metadata": {},
   "outputs": [],
   "source": [
    "check_point  = ModelCheckpoint(\"face_emotion_mobilenet.h5\",\n",
    "                               monitor=\"val_loss\",\n",
    "                               mode = \"min\",\n",
    "                               save_best_only=True,\n",
    "                               verbose=1)\n",
    "early_stop = EarlyStopping(monitor=\"val_loss\",\n",
    "                          min_delta=0,\n",
    "                          patience=10,\n",
    "                          verbose=1,restore_best_weights=True)\n",
    "learning_rate_reduction = ReduceLROnPlateau(monitor=\"val_accuracy\",\n",
    "                                           patience=5,\n",
    "                                           verbose=1,\n",
    "                                           factor=0.2,\n",
    "                                           min_lr=0.0001)\n",
    "callbacks = [early_stop,check_point,learning_rate_reduction]"
   ]
  },
  {
   "cell_type": "code",
   "execution_count": 5,
   "metadata": {},
   "outputs": [
    {
     "name": "stdout",
     "output_type": "stream",
     "text": [
      "Found 24256 images belonging to 5 classes.\n",
      "Found 3006 images belonging to 5 classes.\n"
     ]
    }
   ],
   "source": [
    "num_class = 5\n",
    "r,c = (224,224)\n",
    "batch_size = 32\n",
    "train_data_dir = 'train'\n",
    "valid_data_dir = 'validation'\n",
    "\n",
    "train_datagen = ImageDataGenerator(rescale=1./255,\n",
    "                                  rotation_range=30,\n",
    "                                  shear_range=0.3,\n",
    "                                  zoom_range=0.3,\n",
    "                                  width_shift_range=0.4,\n",
    "                                  height_shift_range=0.4,\n",
    "                                  horizontal_flip=True,\n",
    "                                  fill_mode=\"nearest\")\n",
    "\n",
    "valid_datagen = ImageDataGenerator(rescale=1./255)\n",
    "\n",
    "train_gen = train_datagen.flow_from_directory(train_data_dir,\n",
    "                                              class_mode=\"categorical\",\n",
    "                                              target_size=(r,c),\n",
    "                                              batch_size=batch_size)\n",
    "\n",
    "valid_gen = valid_datagen.flow_from_directory(valid_data_dir,\n",
    "                                              class_mode=\"categorical\",\n",
    "                                              target_size=(r,c),\n",
    "                                              batch_size=batch_size)"
   ]
  },
  {
   "cell_type": "code",
   "execution_count": 7,
   "metadata": {},
   "outputs": [
    {
     "name": "stdout",
     "output_type": "stream",
     "text": [
      "Downloading data from https://github.com/fchollet/deep-learning-models/releases/download/v0.6/mobilenet_1_0_224_tf_no_top.h5\n",
      "17227776/17225924 [==============================] - 143s 8us/step\n"
     ]
    }
   ],
   "source": [
    "m = MobileNet(weights='imagenet',include_top=False,input_shape=(r,c,3))\n",
    "for layer in m.layers:\n",
    "    layer.trainable = True \n"
   ]
  },
  {
   "cell_type": "code",
   "execution_count": 8,
   "metadata": {},
   "outputs": [],
   "source": [
    "x = m.output\n",
    "x = GlobalAveragePooling2D()(x)\n",
    "x = Dense(1024, activation=\"relu\")(x)\n",
    "x = Dense(1024, activation=\"relu\")(x)\n",
    "x = Dense(512, activation=\"relu\")(x)\n",
    "x = Dense(5,activation=\"softmax\")(x)"
   ]
  },
  {
   "cell_type": "code",
   "execution_count": 9,
   "metadata": {},
   "outputs": [],
   "source": [
    "model = Model(inputs=m.input, outputs=x)"
   ]
  },
  {
   "cell_type": "code",
   "execution_count": 10,
   "metadata": {},
   "outputs": [
    {
     "name": "stdout",
     "output_type": "stream",
     "text": [
      "Model: \"model_1\"\n",
      "_________________________________________________________________\n",
      "Layer (type)                 Output Shape              Param #   \n",
      "=================================================================\n",
      "input_1 (InputLayer)         (None, 224, 224, 3)       0         \n",
      "_________________________________________________________________\n",
      "conv1_pad (ZeroPadding2D)    (None, 225, 225, 3)       0         \n",
      "_________________________________________________________________\n",
      "conv1 (Conv2D)               (None, 112, 112, 32)      864       \n",
      "_________________________________________________________________\n",
      "conv1_bn (BatchNormalization (None, 112, 112, 32)      128       \n",
      "_________________________________________________________________\n",
      "conv1_relu (ReLU)            (None, 112, 112, 32)      0         \n",
      "_________________________________________________________________\n",
      "conv_dw_1 (DepthwiseConv2D)  (None, 112, 112, 32)      288       \n",
      "_________________________________________________________________\n",
      "conv_dw_1_bn (BatchNormaliza (None, 112, 112, 32)      128       \n",
      "_________________________________________________________________\n",
      "conv_dw_1_relu (ReLU)        (None, 112, 112, 32)      0         \n",
      "_________________________________________________________________\n",
      "conv_pw_1 (Conv2D)           (None, 112, 112, 64)      2048      \n",
      "_________________________________________________________________\n",
      "conv_pw_1_bn (BatchNormaliza (None, 112, 112, 64)      256       \n",
      "_________________________________________________________________\n",
      "conv_pw_1_relu (ReLU)        (None, 112, 112, 64)      0         \n",
      "_________________________________________________________________\n",
      "conv_pad_2 (ZeroPadding2D)   (None, 113, 113, 64)      0         \n",
      "_________________________________________________________________\n",
      "conv_dw_2 (DepthwiseConv2D)  (None, 56, 56, 64)        576       \n",
      "_________________________________________________________________\n",
      "conv_dw_2_bn (BatchNormaliza (None, 56, 56, 64)        256       \n",
      "_________________________________________________________________\n",
      "conv_dw_2_relu (ReLU)        (None, 56, 56, 64)        0         \n",
      "_________________________________________________________________\n",
      "conv_pw_2 (Conv2D)           (None, 56, 56, 128)       8192      \n",
      "_________________________________________________________________\n",
      "conv_pw_2_bn (BatchNormaliza (None, 56, 56, 128)       512       \n",
      "_________________________________________________________________\n",
      "conv_pw_2_relu (ReLU)        (None, 56, 56, 128)       0         \n",
      "_________________________________________________________________\n",
      "conv_dw_3 (DepthwiseConv2D)  (None, 56, 56, 128)       1152      \n",
      "_________________________________________________________________\n",
      "conv_dw_3_bn (BatchNormaliza (None, 56, 56, 128)       512       \n",
      "_________________________________________________________________\n",
      "conv_dw_3_relu (ReLU)        (None, 56, 56, 128)       0         \n",
      "_________________________________________________________________\n",
      "conv_pw_3 (Conv2D)           (None, 56, 56, 128)       16384     \n",
      "_________________________________________________________________\n",
      "conv_pw_3_bn (BatchNormaliza (None, 56, 56, 128)       512       \n",
      "_________________________________________________________________\n",
      "conv_pw_3_relu (ReLU)        (None, 56, 56, 128)       0         \n",
      "_________________________________________________________________\n",
      "conv_pad_4 (ZeroPadding2D)   (None, 57, 57, 128)       0         \n",
      "_________________________________________________________________\n",
      "conv_dw_4 (DepthwiseConv2D)  (None, 28, 28, 128)       1152      \n",
      "_________________________________________________________________\n",
      "conv_dw_4_bn (BatchNormaliza (None, 28, 28, 128)       512       \n",
      "_________________________________________________________________\n",
      "conv_dw_4_relu (ReLU)        (None, 28, 28, 128)       0         \n",
      "_________________________________________________________________\n",
      "conv_pw_4 (Conv2D)           (None, 28, 28, 256)       32768     \n",
      "_________________________________________________________________\n",
      "conv_pw_4_bn (BatchNormaliza (None, 28, 28, 256)       1024      \n",
      "_________________________________________________________________\n",
      "conv_pw_4_relu (ReLU)        (None, 28, 28, 256)       0         \n",
      "_________________________________________________________________\n",
      "conv_dw_5 (DepthwiseConv2D)  (None, 28, 28, 256)       2304      \n",
      "_________________________________________________________________\n",
      "conv_dw_5_bn (BatchNormaliza (None, 28, 28, 256)       1024      \n",
      "_________________________________________________________________\n",
      "conv_dw_5_relu (ReLU)        (None, 28, 28, 256)       0         \n",
      "_________________________________________________________________\n",
      "conv_pw_5 (Conv2D)           (None, 28, 28, 256)       65536     \n",
      "_________________________________________________________________\n",
      "conv_pw_5_bn (BatchNormaliza (None, 28, 28, 256)       1024      \n",
      "_________________________________________________________________\n",
      "conv_pw_5_relu (ReLU)        (None, 28, 28, 256)       0         \n",
      "_________________________________________________________________\n",
      "conv_pad_6 (ZeroPadding2D)   (None, 29, 29, 256)       0         \n",
      "_________________________________________________________________\n",
      "conv_dw_6 (DepthwiseConv2D)  (None, 14, 14, 256)       2304      \n",
      "_________________________________________________________________\n",
      "conv_dw_6_bn (BatchNormaliza (None, 14, 14, 256)       1024      \n",
      "_________________________________________________________________\n",
      "conv_dw_6_relu (ReLU)        (None, 14, 14, 256)       0         \n",
      "_________________________________________________________________\n",
      "conv_pw_6 (Conv2D)           (None, 14, 14, 512)       131072    \n",
      "_________________________________________________________________\n",
      "conv_pw_6_bn (BatchNormaliza (None, 14, 14, 512)       2048      \n",
      "_________________________________________________________________\n",
      "conv_pw_6_relu (ReLU)        (None, 14, 14, 512)       0         \n",
      "_________________________________________________________________\n",
      "conv_dw_7 (DepthwiseConv2D)  (None, 14, 14, 512)       4608      \n",
      "_________________________________________________________________\n",
      "conv_dw_7_bn (BatchNormaliza (None, 14, 14, 512)       2048      \n",
      "_________________________________________________________________\n",
      "conv_dw_7_relu (ReLU)        (None, 14, 14, 512)       0         \n",
      "_________________________________________________________________\n",
      "conv_pw_7 (Conv2D)           (None, 14, 14, 512)       262144    \n",
      "_________________________________________________________________\n",
      "conv_pw_7_bn (BatchNormaliza (None, 14, 14, 512)       2048      \n",
      "_________________________________________________________________\n",
      "conv_pw_7_relu (ReLU)        (None, 14, 14, 512)       0         \n",
      "_________________________________________________________________\n",
      "conv_dw_8 (DepthwiseConv2D)  (None, 14, 14, 512)       4608      \n",
      "_________________________________________________________________\n",
      "conv_dw_8_bn (BatchNormaliza (None, 14, 14, 512)       2048      \n",
      "_________________________________________________________________\n",
      "conv_dw_8_relu (ReLU)        (None, 14, 14, 512)       0         \n",
      "_________________________________________________________________\n",
      "conv_pw_8 (Conv2D)           (None, 14, 14, 512)       262144    \n",
      "_________________________________________________________________\n",
      "conv_pw_8_bn (BatchNormaliza (None, 14, 14, 512)       2048      \n",
      "_________________________________________________________________\n",
      "conv_pw_8_relu (ReLU)        (None, 14, 14, 512)       0         \n",
      "_________________________________________________________________\n",
      "conv_dw_9 (DepthwiseConv2D)  (None, 14, 14, 512)       4608      \n",
      "_________________________________________________________________\n",
      "conv_dw_9_bn (BatchNormaliza (None, 14, 14, 512)       2048      \n",
      "_________________________________________________________________\n",
      "conv_dw_9_relu (ReLU)        (None, 14, 14, 512)       0         \n",
      "_________________________________________________________________\n",
      "conv_pw_9 (Conv2D)           (None, 14, 14, 512)       262144    \n",
      "_________________________________________________________________\n",
      "conv_pw_9_bn (BatchNormaliza (None, 14, 14, 512)       2048      \n",
      "_________________________________________________________________\n",
      "conv_pw_9_relu (ReLU)        (None, 14, 14, 512)       0         \n",
      "_________________________________________________________________\n",
      "conv_dw_10 (DepthwiseConv2D) (None, 14, 14, 512)       4608      \n",
      "_________________________________________________________________\n",
      "conv_dw_10_bn (BatchNormaliz (None, 14, 14, 512)       2048      \n",
      "_________________________________________________________________\n",
      "conv_dw_10_relu (ReLU)       (None, 14, 14, 512)       0         \n",
      "_________________________________________________________________\n",
      "conv_pw_10 (Conv2D)          (None, 14, 14, 512)       262144    \n",
      "_________________________________________________________________\n",
      "conv_pw_10_bn (BatchNormaliz (None, 14, 14, 512)       2048      \n",
      "_________________________________________________________________\n",
      "conv_pw_10_relu (ReLU)       (None, 14, 14, 512)       0         \n",
      "_________________________________________________________________\n",
      "conv_dw_11 (DepthwiseConv2D) (None, 14, 14, 512)       4608      \n",
      "_________________________________________________________________\n",
      "conv_dw_11_bn (BatchNormaliz (None, 14, 14, 512)       2048      \n",
      "_________________________________________________________________\n",
      "conv_dw_11_relu (ReLU)       (None, 14, 14, 512)       0         \n",
      "_________________________________________________________________\n",
      "conv_pw_11 (Conv2D)          (None, 14, 14, 512)       262144    \n",
      "_________________________________________________________________\n",
      "conv_pw_11_bn (BatchNormaliz (None, 14, 14, 512)       2048      \n",
      "_________________________________________________________________\n",
      "conv_pw_11_relu (ReLU)       (None, 14, 14, 512)       0         \n",
      "_________________________________________________________________\n",
      "conv_pad_12 (ZeroPadding2D)  (None, 15, 15, 512)       0         \n",
      "_________________________________________________________________\n",
      "conv_dw_12 (DepthwiseConv2D) (None, 7, 7, 512)         4608      \n",
      "_________________________________________________________________\n",
      "conv_dw_12_bn (BatchNormaliz (None, 7, 7, 512)         2048      \n",
      "_________________________________________________________________\n",
      "conv_dw_12_relu (ReLU)       (None, 7, 7, 512)         0         \n",
      "_________________________________________________________________\n",
      "conv_pw_12 (Conv2D)          (None, 7, 7, 1024)        524288    \n",
      "_________________________________________________________________\n",
      "conv_pw_12_bn (BatchNormaliz (None, 7, 7, 1024)        4096      \n",
      "_________________________________________________________________\n",
      "conv_pw_12_relu (ReLU)       (None, 7, 7, 1024)        0         \n",
      "_________________________________________________________________\n",
      "conv_dw_13 (DepthwiseConv2D) (None, 7, 7, 1024)        9216      \n",
      "_________________________________________________________________\n",
      "conv_dw_13_bn (BatchNormaliz (None, 7, 7, 1024)        4096      \n",
      "_________________________________________________________________\n",
      "conv_dw_13_relu (ReLU)       (None, 7, 7, 1024)        0         \n",
      "_________________________________________________________________\n",
      "conv_pw_13 (Conv2D)          (None, 7, 7, 1024)        1048576   \n",
      "_________________________________________________________________\n",
      "conv_pw_13_bn (BatchNormaliz (None, 7, 7, 1024)        4096      \n",
      "_________________________________________________________________\n",
      "conv_pw_13_relu (ReLU)       (None, 7, 7, 1024)        0         \n",
      "_________________________________________________________________\n",
      "global_average_pooling2d_1 ( (None, 1024)              0         \n",
      "_________________________________________________________________\n",
      "dense_1 (Dense)              (None, 1024)              1049600   \n",
      "_________________________________________________________________\n",
      "dense_2 (Dense)              (None, 1024)              1049600   \n",
      "_________________________________________________________________\n",
      "dense_3 (Dense)              (None, 512)               524800    \n",
      "_________________________________________________________________\n",
      "dense_4 (Dense)              (None, 5)                 2565      \n",
      "=================================================================\n",
      "Total params: 5,855,429\n",
      "Trainable params: 5,833,541\n",
      "Non-trainable params: 21,888\n",
      "_________________________________________________________________\n"
     ]
    }
   ],
   "source": [
    "model.summary()"
   ]
  },
  {
   "cell_type": "code",
   "execution_count": 11,
   "metadata": {},
   "outputs": [
    {
     "name": "stdout",
     "output_type": "stream",
     "text": [
      "Epoch 1/30\n",
      "758/758 [==============================] - 1021s 1s/step - loss: 1.2474 - accuracy: 0.4884 - val_loss: 1.6102 - val_accuracy: 0.5360\n",
      "\n",
      "Epoch 00001: val_loss improved from inf to 1.61020, saving model to face_emotion_mobilenet.h5\n",
      "Epoch 2/30\n",
      "758/758 [==============================] - 489s 645ms/step - loss: 1.0598 - accuracy: 0.5791 - val_loss: 1.0389 - val_accuracy: 0.5578\n",
      "\n",
      "Epoch 00002: val_loss improved from 1.61020 to 1.03894, saving model to face_emotion_mobilenet.h5\n",
      "Epoch 3/30\n",
      "758/758 [==============================] - 492s 649ms/step - loss: 0.9989 - accuracy: 0.6056 - val_loss: 1.0249 - val_accuracy: 0.5713\n",
      "\n",
      "Epoch 00003: val_loss improved from 1.03894 to 1.02492, saving model to face_emotion_mobilenet.h5\n",
      "Epoch 4/30\n",
      "758/758 [==============================] - 475s 626ms/step - loss: 0.9536 - accuracy: 0.6296 - val_loss: 1.6263 - val_accuracy: 0.5918\n",
      "\n",
      "Epoch 00004: val_loss did not improve from 1.02492\n",
      "Epoch 5/30\n",
      "758/758 [==============================] - 479s 633ms/step - loss: 0.9170 - accuracy: 0.6427 - val_loss: 1.3782 - val_accuracy: 0.5982\n",
      "\n",
      "Epoch 00005: val_loss did not improve from 1.02492\n",
      "Epoch 6/30\n",
      "758/758 [==============================] - 472s 623ms/step - loss: 0.8863 - accuracy: 0.6551 - val_loss: 1.3587 - val_accuracy: 0.5780\n",
      "\n",
      "Epoch 00006: val_loss did not improve from 1.02492\n",
      "Epoch 7/30\n",
      "758/758 [==============================] - 474s 625ms/step - loss: 0.8636 - accuracy: 0.6672 - val_loss: 1.1014 - val_accuracy: 0.6056\n",
      "\n",
      "Epoch 00007: val_loss did not improve from 1.02492\n",
      "Epoch 8/30\n",
      "758/758 [==============================] - 475s 626ms/step - loss: 0.8412 - accuracy: 0.6749 - val_loss: 1.1074 - val_accuracy: 0.6049\n",
      "\n",
      "Epoch 00008: val_loss did not improve from 1.02492\n",
      "Epoch 9/30\n",
      "758/758 [==============================] - 476s 629ms/step - loss: 0.8297 - accuracy: 0.6814 - val_loss: 0.5339 - val_accuracy: 0.6446\n",
      "\n",
      "Epoch 00009: val_loss improved from 1.02492 to 0.53392, saving model to face_emotion_mobilenet.h5\n",
      "Epoch 10/30\n",
      "758/758 [==============================] - 473s 624ms/step - loss: 0.8161 - accuracy: 0.6868 - val_loss: 1.0693 - val_accuracy: 0.6224\n",
      "\n",
      "Epoch 00010: val_loss did not improve from 0.53392\n",
      "Epoch 11/30\n",
      "758/758 [==============================] - 473s 624ms/step - loss: 0.8045 - accuracy: 0.6898 - val_loss: 1.3867 - val_accuracy: 0.6200\n",
      "\n",
      "Epoch 00011: val_loss did not improve from 0.53392\n",
      "Epoch 12/30\n",
      "758/758 [==============================] - 474s 625ms/step - loss: 0.7901 - accuracy: 0.6943 - val_loss: 1.3306 - val_accuracy: 0.6493\n",
      "\n",
      "Epoch 00012: val_loss did not improve from 0.53392\n",
      "Epoch 13/30\n",
      "758/758 [==============================] - 483s 637ms/step - loss: 0.7818 - accuracy: 0.7026 - val_loss: 1.0340 - val_accuracy: 0.6469\n",
      "\n",
      "Epoch 00013: val_loss did not improve from 0.53392\n",
      "Epoch 14/30\n",
      "758/758 [==============================] - 479s 631ms/step - loss: 0.7715 - accuracy: 0.7040 - val_loss: 0.9097 - val_accuracy: 0.6395\n",
      "\n",
      "Epoch 00014: val_loss did not improve from 0.53392\n",
      "Epoch 15/30\n",
      "758/758 [==============================] - 477s 629ms/step - loss: 0.7545 - accuracy: 0.7111 - val_loss: 0.7974 - val_accuracy: 0.6352\n",
      "\n",
      "Epoch 00015: val_loss did not improve from 0.53392\n",
      "Epoch 16/30\n",
      "758/758 [==============================] - 483s 638ms/step - loss: 0.7501 - accuracy: 0.7107 - val_loss: 1.9370 - val_accuracy: 0.6416\n",
      "\n",
      "Epoch 00016: val_loss did not improve from 0.53392\n",
      "Epoch 17/30\n",
      "758/758 [==============================] - 474s 625ms/step - loss: 0.7395 - accuracy: 0.7166 - val_loss: 1.1786 - val_accuracy: 0.6137\n",
      "\n",
      "Epoch 00017: val_loss did not improve from 0.53392\n",
      "\n",
      "Epoch 00017: ReduceLROnPlateau reducing learning rate to 0.00020000000949949026.\n",
      "Epoch 18/30\n",
      "758/758 [==============================] - 470s 621ms/step - loss: 0.6772 - accuracy: 0.7434 - val_loss: 0.7585 - val_accuracy: 0.6651\n",
      "\n",
      "Epoch 00018: val_loss did not improve from 0.53392\n",
      "Epoch 19/30\n",
      "758/758 [==============================] - 483s 638ms/step - loss: 0.6629 - accuracy: 0.7468 - val_loss: 1.4699 - val_accuracy: 0.6658\n",
      "Restoring model weights from the end of the best epoch\n",
      "\n",
      "Epoch 00019: val_loss did not improve from 0.53392\n",
      "Epoch 00019: early stopping\n"
     ]
    }
   ],
   "source": [
    "model.compile(loss = \"categorical_crossentropy\",optimizer=keras.optimizers.Adam(lr=0.001),metrics=[\"accuracy\"])\n",
    "num_train = 24256\n",
    "num_valid = 3006\n",
    "epochs = 30\n",
    "his = model.fit_generator(train_gen,\n",
    "                     steps_per_epoch = num_train//batch_size,\n",
    "                     epochs = epochs,callbacks=callbacks,\n",
    "                     validation_data = valid_gen,\n",
    "                     validation_steps = num_valid//batch_size)"
   ]
  },
  {
   "cell_type": "code",
   "execution_count": 13,
   "metadata": {},
   "outputs": [],
   "source": [
    "model.save(\"Mobile_Net.h5\")"
   ]
  },
  {
   "cell_type": "code",
   "execution_count": 14,
   "metadata": {},
   "outputs": [
    {
     "data": {
      "image/png": "[encoded data removed]",
      "text/plain": [
       "<Figure size 432x288 with 1 Axes>"
      ]
     },
     "metadata": {
      "needs_background": "light"
     },
     "output_type": "display_data"
    }
   ],
   "source": [
    "plt.plot(his.history[\"accuracy\"])\n",
    "plt.plot(his.history[\"val_accuracy\"])\n",
    "plt.title(\"Model_Accuracy\")\n",
    "plt.ylabel(\"Accuracy\")\n",
    "plt.xlabel(\"epochs\")\n",
    "plt.legend(['Train',\"Test\"],loc=\"upper left\")\n",
    "plt.show()"
   ]
  },
  {
   "cell_type": "code",
   "execution_count": 15,
   "metadata": {},
   "outputs": [
    {
     "data": {
      "image/png": "[encoded data removed]",
      "text/plain": [
       "<Figure size 432x288 with 1 Axes>"
      ]
     },
     "metadata": {
      "needs_background": "light"
     },
     "output_type": "display_data"
    }
   ],
   "source": [
    "plt.plot(his.history[\"loss\"])\n",
    "plt.plot(his.history[\"val_loss\"])\n",
    "plt.title(\"Model_loss\")\n",
    "plt.ylabel(\"Loss\")\n",
    "plt.xlabel(\"epochs\")\n",
    "plt.legend(['Train',\"Test\"],loc=\"upper left\")\n",
    "plt.show()"
   ]
  },
  {
   "cell_type": "code",
   "execution_count": 18,
   "metadata": {},
   "outputs": [
    {
     "name": "stdout",
     "output_type": "stream",
     "text": [
      "Confution matrix\n",
      "[[119 166  50  79  77]\n",
      " [183 315  91 141 149]\n",
      " [127 219  75  98 107]\n",
      " [118 217  65  93 101]\n",
      " [ 87 146  50  74  59]]\n"
     ]
    }
   ],
   "source": [
    "y_pred = model.predict_generator(valid_gen,num_valid//batch_size+1)\n",
    "y_pred = np.argmax(y_pred,axis=1)\n",
    "print(\"Confution matrix\")\n",
    "print(confusion_matrix(valid_gen.classes,y_pred))"
   ]
  },
  {
   "cell_type": "code",
   "execution_count": null,
   "metadata": {},
   "outputs": [],
   "source": []
  },
  {
   "cell_type": "code",
   "execution_count": null,
   "metadata": {},
   "outputs": [],
   "source": []
  }
 ],
 "metadata": {
  "kernelspec": {
   "display_name": "Python 3",
   "language": "python",
   "name": "python3"
  },
  "language_info": {
   "codemirror_mode": {
    "name": "ipython",
    "version": 3
   },
   "file_extension": ".py",
   "mimetype": "text/x-python",
   "name": "python",
   "nbconvert_exporter": "python",
   "pygments_lexer": "ipython3",
   "version": "3.7.3"
  }
 },
 "nbformat": 4,
 "nbformat_minor": 2
}
