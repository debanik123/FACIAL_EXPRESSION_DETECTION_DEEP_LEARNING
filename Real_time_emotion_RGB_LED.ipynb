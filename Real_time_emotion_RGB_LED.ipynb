{
 "cells": [
  {
   "cell_type": "code",
   "execution_count": 1,
   "metadata": {},
   "outputs": [
    {
     "name": "stderr",
     "output_type": "stream",
     "text": [
      "Using TensorFlow backend.\n"
     ]
    }
   ],
   "source": [
    "from keras.models import load_model\n",
    "from time import sleep \n",
    "from keras.preprocessing.image import img_to_array\n",
    "from keras.preprocessing import image\n",
    "import cv2\n",
    "import serial\n",
    "import numpy as np \n",
    "Myserial = serial.Serial('COM4',9600)\n",
    "f_c = cv2.CascadeClassifier(\"haarcascade_frontalface_default.xml\")\n",
    "d_c = load_model(\"Emotion_little_vgg.h5\")\n",
    "class_ = [\"Angry\",\"Happy\", \"Neutral\", \"Sad\", \"Surprise\"]\n",
    "cap = cv2.VideoCapture(0)\n",
    "\n",
    "while True:\n",
    "    ret, frame  = cap.read()\n",
    "    labels = []\n",
    "    gray = cv2.cvtColor(frame, cv2.COLOR_BGR2GRAY)\n",
    "    faces = f_c.detectMultiScale(gray,1.3,5)\n",
    "    for (x,y,w,h) in faces:\n",
    "        cv2.rectangle(frame,(x,y),(x+w,y+h),(0,255,0),2)\n",
    "        roi = gray[y:y+h,x:x+w]\n",
    "        roi = cv2.resize(roi,(48,48),interpolation=cv2.INTER_AREA)\n",
    "        if np.sum(roi) != 0:\n",
    "            \n",
    "            roi = roi.astype(\"float\")/255.0\n",
    "            roi = img_to_array(roi)\n",
    "            roi = np.expand_dims(roi, axis=0)\n",
    "            \n",
    "            pred = d_c.predict(roi)[0]\n",
    "            label = class_[pred.argmax()]\n",
    "            \n",
    "            if label == \"Neutral\":\n",
    "                Myserial.write(str.encode('W'))\n",
    "            if label == \"Happy\":\n",
    "                Myserial.write(str.encode('G'))\n",
    "            if label == \"Sad\":\n",
    "                Myserial.write(str.encode('B'))\n",
    "            if label == \"Angry\":\n",
    "                Myserial.write(str.encode('R'))\n",
    "            if label == \"Surprise\":\n",
    "                Myserial.write(str.encode('M'))\n",
    "            label_co = (x,y)\n",
    "            \n",
    "            cv2.putText(frame,label,label_co, cv2.FONT_HERSHEY_SIMPLEX,2,(0,255,0),3)\n",
    "        else:\n",
    "            cv2.putText(frame,\"No_face_Found\",40,60, cv2.FONT_HERSHEY_SIMPLEX,2,(0,255,0),3)\n",
    "    cv2.imshow(\"Face_emotion_detector\",frame)\n",
    "    if cv2.waitKey(1) & 0XFF == ord(\"q\"):\n",
    "        break\n",
    "cap.release()\n",
    "cv2.destroyAllWindows()"
   ]
  },
  {
   "cell_type": "code",
   "execution_count": null,
   "metadata": {},
   "outputs": [],
   "source": []
  }
 ],
 "metadata": {
  "kernelspec": {
   "display_name": "Python 3",
   "language": "python",
   "name": "python3"
  },
  "language_info": {
   "codemirror_mode": {
    "name": "ipython",
    "version": 3
   },
   "file_extension": ".py",
   "mimetype": "text/x-python",
   "name": "python",
   "nbconvert_exporter": "python",
   "pygments_lexer": "ipython3",
   "version": "3.7.3"
  }
 },
 "nbformat": 4,
 "nbformat_minor": 2
}
